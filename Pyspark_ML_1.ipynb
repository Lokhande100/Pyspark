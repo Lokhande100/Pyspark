{
  "nbformat": 4,
  "nbformat_minor": 0,
  "metadata": {
    "colab": {
      "name": "Pyspark_ML_1.ipynb",
      "provenance": [],
      "authorship_tag": "ABX9TyOGK2rI8g7aNP5EFclqMcvm",
      "include_colab_link": true
    },
    "kernelspec": {
      "name": "python3",
      "display_name": "Python 3"
    },
    "language_info": {
      "name": "python"
    }
  },
  "cells": [
    {
      "cell_type": "markdown",
      "metadata": {
        "id": "view-in-github",
        "colab_type": "text"
      },
      "source": [
        "<a href=\"https://colab.research.google.com/github/Lokhande10/Pyspark/blob/main/Pyspark_ML_1.ipynb\" target=\"_parent\"><img src=\"https://colab.research.google.com/assets/colab-badge.svg\" alt=\"Open In Colab\"/></a>"
      ]
    },
    {
      "cell_type": "code",
      "execution_count": 1,
      "metadata": {
        "colab": {
          "base_uri": "https://localhost:8080/"
        },
        "id": "dvyZHBC0c8mT",
        "outputId": "9707c716-1597-42be-8dc8-f9ca9debad8f"
      },
      "outputs": [
        {
          "output_type": "stream",
          "name": "stdout",
          "text": [
            "Collecting pyspark\n",
            "  Downloading pyspark-3.2.1.tar.gz (281.4 MB)\n",
            "\u001b[K     |████████████████████████████████| 281.4 MB 35 kB/s \n",
            "\u001b[?25hCollecting py4j==0.10.9.3\n",
            "  Downloading py4j-0.10.9.3-py2.py3-none-any.whl (198 kB)\n",
            "\u001b[K     |████████████████████████████████| 198 kB 61.6 MB/s \n",
            "\u001b[?25hBuilding wheels for collected packages: pyspark\n",
            "  Building wheel for pyspark (setup.py) ... \u001b[?25l\u001b[?25hdone\n",
            "  Created wheel for pyspark: filename=pyspark-3.2.1-py2.py3-none-any.whl size=281853642 sha256=e645ec7b201fb17237f03427cd7a0793ca2f84445da31577fccc5c432313f6d8\n",
            "  Stored in directory: /root/.cache/pip/wheels/9f/f5/07/7cd8017084dce4e93e84e92efd1e1d5334db05f2e83bcef74f\n",
            "Successfully built pyspark\n",
            "Installing collected packages: py4j, pyspark\n",
            "Successfully installed py4j-0.10.9.3 pyspark-3.2.1\n"
          ]
        }
      ],
      "source": [
        "pip install pyspark"
      ]
    },
    {
      "cell_type": "code",
      "source": [
        "from pyspark.sql import SparkSession\n",
        "spark=SparkSession.builder.appName('Missing').getOrCreate()"
      ],
      "metadata": {
        "id": "MbUJ0u0ieFcR"
      },
      "execution_count": 5,
      "outputs": []
    },
    {
      "cell_type": "code",
      "source": [
        "## Read The dataset\n",
        "training = spark.read.csv('datasheet3.csv',header=True,inferSchema=True)"
      ],
      "metadata": {
        "id": "0Ui4FDjKeFfV"
      },
      "execution_count": 6,
      "outputs": []
    },
    {
      "cell_type": "code",
      "source": [
        "training.show()"
      ],
      "metadata": {
        "colab": {
          "base_uri": "https://localhost:8080/"
        },
        "id": "uMpA-bp0eFh_",
        "outputId": "42d1245a-305c-499b-f356-65f71dee7c1d"
      },
      "execution_count": 7,
      "outputs": [
        {
          "output_type": "stream",
          "name": "stdout",
          "text": [
            "+------+---+---+------+\n",
            "|  Name|Age|Exp|Salary|\n",
            "+------+---+---+------+\n",
            "|Sachin| 25|  5| 20000|\n",
            "|  Ravi| 22|  1| 50000|\n",
            "| Sanju| 23|  8| 30000|\n",
            "|  Viru| 27|  2| 24000|\n",
            "|Saddhu| 24|  7| 25000|\n",
            "|  Rutu| 25|  3| 25000|\n",
            "|Nikhil| 24|  3| 29000|\n",
            "|Vishal| 26|  2| 37000|\n",
            "+------+---+---+------+\n",
            "\n"
          ]
        }
      ]
    },
    {
      "cell_type": "code",
      "source": [
        "training.printSchema()"
      ],
      "metadata": {
        "colab": {
          "base_uri": "https://localhost:8080/"
        },
        "id": "4fk14_bveFk3",
        "outputId": "cf19119c-3fc9-468c-990c-2b5108bfd9aa"
      },
      "execution_count": 8,
      "outputs": [
        {
          "output_type": "stream",
          "name": "stdout",
          "text": [
            "root\n",
            " |-- Name: string (nullable = true)\n",
            " |-- Age: integer (nullable = true)\n",
            " |-- Exp: integer (nullable = true)\n",
            " |-- Salary: integer (nullable = true)\n",
            "\n"
          ]
        }
      ]
    },
    {
      "cell_type": "code",
      "source": [
        "from pyspark.ml.feature import VectorAssembler\n",
        "featureassembler=VectorAssembler(inputCols=[\"Age\",\"Exp\"],outputCol=\"Independent Features\")"
      ],
      "metadata": {
        "id": "5pcqrXvueFn_"
      },
      "execution_count": 10,
      "outputs": []
    },
    {
      "cell_type": "code",
      "source": [
        "\n",
        "\n",
        "output=featureassembler.transform(training)\n",
        "\n"
      ],
      "metadata": {
        "id": "17GS8QiSeFqP"
      },
      "execution_count": 11,
      "outputs": []
    },
    {
      "cell_type": "code",
      "source": [
        "\n",
        "\n",
        "output.show()\n",
        "\n"
      ],
      "metadata": {
        "colab": {
          "base_uri": "https://localhost:8080/"
        },
        "id": "1o7xloA8eFvw",
        "outputId": "58639b0a-77d8-447e-8031-eac507ed86de"
      },
      "execution_count": 12,
      "outputs": [
        {
          "output_type": "stream",
          "name": "stdout",
          "text": [
            "+------+---+---+------+--------------------+\n",
            "|  Name|Age|Exp|Salary|Independent Features|\n",
            "+------+---+---+------+--------------------+\n",
            "|Sachin| 25|  5| 20000|          [25.0,5.0]|\n",
            "|  Ravi| 22|  1| 50000|          [22.0,1.0]|\n",
            "| Sanju| 23|  8| 30000|          [23.0,8.0]|\n",
            "|  Viru| 27|  2| 24000|          [27.0,2.0]|\n",
            "|Saddhu| 24|  7| 25000|          [24.0,7.0]|\n",
            "|  Rutu| 25|  3| 25000|          [25.0,3.0]|\n",
            "|Nikhil| 24|  3| 29000|          [24.0,3.0]|\n",
            "|Vishal| 26|  2| 37000|          [26.0,2.0]|\n",
            "+------+---+---+------+--------------------+\n",
            "\n"
          ]
        }
      ]
    },
    {
      "cell_type": "code",
      "source": [
        "output.columns"
      ],
      "metadata": {
        "colab": {
          "base_uri": "https://localhost:8080/"
        },
        "id": "-e5EMRAwevh1",
        "outputId": "4ad877b7-05c0-4db5-a4bb-f6fe0fd4a412"
      },
      "execution_count": 13,
      "outputs": [
        {
          "output_type": "execute_result",
          "data": {
            "text/plain": [
              "['Name', 'Age', 'Exp', 'Salary', 'Independent Features']"
            ]
          },
          "metadata": {},
          "execution_count": 13
        }
      ]
    },
    {
      "cell_type": "code",
      "source": [
        "finalized_data=output.select(\"Independent Features\",\"Salary\")"
      ],
      "metadata": {
        "id": "4E5U_e_qevkz"
      },
      "execution_count": 14,
      "outputs": []
    },
    {
      "cell_type": "code",
      "source": [
        "finalized_data.show()"
      ],
      "metadata": {
        "colab": {
          "base_uri": "https://localhost:8080/"
        },
        "id": "9VsuCWKyevoq",
        "outputId": "753b7cdf-d066-4315-faa1-e2893897ecdc"
      },
      "execution_count": 15,
      "outputs": [
        {
          "output_type": "stream",
          "name": "stdout",
          "text": [
            "+--------------------+------+\n",
            "|Independent Features|Salary|\n",
            "+--------------------+------+\n",
            "|          [25.0,5.0]| 20000|\n",
            "|          [22.0,1.0]| 50000|\n",
            "|          [23.0,8.0]| 30000|\n",
            "|          [27.0,2.0]| 24000|\n",
            "|          [24.0,7.0]| 25000|\n",
            "|          [25.0,3.0]| 25000|\n",
            "|          [24.0,3.0]| 29000|\n",
            "|          [26.0,2.0]| 37000|\n",
            "+--------------------+------+\n",
            "\n"
          ]
        }
      ]
    },
    {
      "cell_type": "code",
      "source": [
        "from pyspark.ml.regression import LinearRegression\n",
        "##train test split\n",
        "train_data,test_data=finalized_data.randomSplit([0.75,0.25])\n",
        "regressor=LinearRegression(featuresCol='Independent Features', labelCol='Salary')\n",
        "regressor=regressor.fit(train_data)"
      ],
      "metadata": {
        "id": "GEkAEjuFevrv"
      },
      "execution_count": 16,
      "outputs": []
    },
    {
      "cell_type": "code",
      "source": [
        "\n",
        "\n",
        "### Coefficients\n",
        "regressor.coefficients\n",
        "\n"
      ],
      "metadata": {
        "colab": {
          "base_uri": "https://localhost:8080/"
        },
        "id": "eYAabAKbevvp",
        "outputId": "f88902ba-173d-4839-fef7-fd5efa572bf1"
      },
      "execution_count": 17,
      "outputs": [
        {
          "output_type": "execute_result",
          "data": {
            "text/plain": [
              "DenseVector([-4712.8713, -2772.2772])"
            ]
          },
          "metadata": {},
          "execution_count": 17
        }
      ]
    },
    {
      "cell_type": "code",
      "source": [
        "### Intercepts\n",
        "regressor.intercept"
      ],
      "metadata": {
        "colab": {
          "base_uri": "https://localhost:8080/"
        },
        "id": "W-SkJ_tQfEVt",
        "outputId": "4d214949-14c4-4414-cddd-38d879a6cc9c"
      },
      "execution_count": 18,
      "outputs": [
        {
          "output_type": "execute_result",
          "data": {
            "text/plain": [
              "154574.257425754"
            ]
          },
          "metadata": {},
          "execution_count": 18
        }
      ]
    },
    {
      "cell_type": "code",
      "source": [
        "### Prediction\n",
        "pred_results=regressor.evaluate(test_data)"
      ],
      "metadata": {
        "id": "1JLqF1I-fEYg"
      },
      "execution_count": 19,
      "outputs": []
    },
    {
      "cell_type": "code",
      "source": [
        "pred_results.predictions.show()"
      ],
      "metadata": {
        "colab": {
          "base_uri": "https://localhost:8080/"
        },
        "id": "Sr06AjGFfEbE",
        "outputId": "7af0b908-fa55-4ef2-be8c-c33051cd3b38"
      },
      "execution_count": 20,
      "outputs": [
        {
          "output_type": "stream",
          "name": "stderr",
          "text": [
            "/usr/local/lib/python3.7/dist-packages/pyspark/sql/context.py:127: FutureWarning: Deprecated in 3.0.0. Use SparkSession.builder.getOrCreate() instead.\n",
            "  FutureWarning\n"
          ]
        },
        {
          "output_type": "stream",
          "name": "stdout",
          "text": [
            "+--------------------+------+------------------+\n",
            "|Independent Features|Salary|        prediction|\n",
            "+--------------------+------+------------------+\n",
            "|          [23.0,8.0]| 30000|24000.000000000815|\n",
            "|          [25.0,3.0]| 25000| 28435.64356435614|\n",
            "|          [26.0,2.0]| 37000|26495.049504949697|\n",
            "+--------------------+------+------------------+\n",
            "\n"
          ]
        }
      ]
    },
    {
      "cell_type": "code",
      "source": [
        "pred_results.meanAbsoluteError,pred_results.meanSquaredError\n"
      ],
      "metadata": {
        "colab": {
          "base_uri": "https://localhost:8080/"
        },
        "id": "d9n8AU80fEf1",
        "outputId": "20f25a91-776b-4e96-c8f3-567b604ad03f"
      },
      "execution_count": 21,
      "outputs": [
        {
          "output_type": "execute_result",
          "data": {
            "text/plain": [
              "(6646.864686468543, 52719210.53491653)"
            ]
          },
          "metadata": {},
          "execution_count": 21
        }
      ]
    }
  ]
}