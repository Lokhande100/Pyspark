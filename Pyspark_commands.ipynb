{
  "nbformat": 4,
  "nbformat_minor": 0,
  "metadata": {
    "colab": {
      "name": "Pyspark_commands.ipynb",
      "provenance": [],
      "collapsed_sections": [],
      "authorship_tag": "ABX9TyMnidyyBM+UgXLDim+6DNPj",
      "include_colab_link": true
    },
    "kernelspec": {
      "name": "python3",
      "display_name": "Python 3"
    },
    "language_info": {
      "name": "python"
    }
  },
  "cells": [
    {
      "cell_type": "markdown",
      "metadata": {
        "id": "view-in-github",
        "colab_type": "text"
      },
      "source": [
        "<a href=\"https://colab.research.google.com/github/Lokhande10/Pyspark/blob/main/Pyspark_commands.ipynb\" target=\"_parent\"><img src=\"https://colab.research.google.com/assets/colab-badge.svg\" alt=\"Open In Colab\"/></a>"
      ]
    },
    {
      "cell_type": "code",
      "execution_count": 5,
      "metadata": {
        "id": "wMRGfoe2qmdj"
      },
      "outputs": [],
      "source": [
        "import pandas as pd"
      ]
    },
    {
      "cell_type": "code",
      "source": [
        "ls"
      ],
      "metadata": {
        "colab": {
          "base_uri": "https://localhost:8080/"
        },
        "id": "c0LzCAYLr9Q_",
        "outputId": "2c716ab8-f4b7-4385-8689-1f22d4735399"
      },
      "execution_count": 29,
      "outputs": [
        {
          "output_type": "stream",
          "name": "stdout",
          "text": [
            "'data.csv - Sheet1.csv'   \u001b[0m\u001b[01;34msample_data\u001b[0m/\n"
          ]
        }
      ]
    },
    {
      "cell_type": "code",
      "source": [
        "pd.read_csv('data.csv - Sheet1.csv')"
      ],
      "metadata": {
        "colab": {
          "base_uri": "https://localhost:8080/",
          "height": 175
        },
        "id": "J4eufW8wsBZa",
        "outputId": "0aa00ea2-91bd-4091-adb1-b51cf71b5f5d"
      },
      "execution_count": 8,
      "outputs": [
        {
          "output_type": "execute_result",
          "data": {
            "text/html": [
              "\n",
              "  <div id=\"df-cacb58d2-bd69-4009-b96e-5992f5ed1cd7\">\n",
              "    <div class=\"colab-df-container\">\n",
              "      <div>\n",
              "<style scoped>\n",
              "    .dataframe tbody tr th:only-of-type {\n",
              "        vertical-align: middle;\n",
              "    }\n",
              "\n",
              "    .dataframe tbody tr th {\n",
              "        vertical-align: top;\n",
              "    }\n",
              "\n",
              "    .dataframe thead th {\n",
              "        text-align: right;\n",
              "    }\n",
              "</style>\n",
              "<table border=\"1\" class=\"dataframe\">\n",
              "  <thead>\n",
              "    <tr style=\"text-align: right;\">\n",
              "      <th></th>\n",
              "      <th>Name</th>\n",
              "      <th>Age</th>\n",
              "      <th>Experience</th>\n",
              "    </tr>\n",
              "  </thead>\n",
              "  <tbody>\n",
              "    <tr>\n",
              "      <th>0</th>\n",
              "      <td>Sunil</td>\n",
              "      <td>50</td>\n",
              "      <td>15</td>\n",
              "    </tr>\n",
              "    <tr>\n",
              "      <th>1</th>\n",
              "      <td>Sachin</td>\n",
              "      <td>35</td>\n",
              "      <td>18</td>\n",
              "    </tr>\n",
              "    <tr>\n",
              "      <th>2</th>\n",
              "      <td>Rohit</td>\n",
              "      <td>40</td>\n",
              "      <td>12</td>\n",
              "    </tr>\n",
              "    <tr>\n",
              "      <th>3</th>\n",
              "      <td>Viru</td>\n",
              "      <td>36</td>\n",
              "      <td>12</td>\n",
              "    </tr>\n",
              "  </tbody>\n",
              "</table>\n",
              "</div>\n",
              "      <button class=\"colab-df-convert\" onclick=\"convertToInteractive('df-cacb58d2-bd69-4009-b96e-5992f5ed1cd7')\"\n",
              "              title=\"Convert this dataframe to an interactive table.\"\n",
              "              style=\"display:none;\">\n",
              "        \n",
              "  <svg xmlns=\"http://www.w3.org/2000/svg\" height=\"24px\"viewBox=\"0 0 24 24\"\n",
              "       width=\"24px\">\n",
              "    <path d=\"M0 0h24v24H0V0z\" fill=\"none\"/>\n",
              "    <path d=\"M18.56 5.44l.94 2.06.94-2.06 2.06-.94-2.06-.94-.94-2.06-.94 2.06-2.06.94zm-11 1L8.5 8.5l.94-2.06 2.06-.94-2.06-.94L8.5 2.5l-.94 2.06-2.06.94zm10 10l.94 2.06.94-2.06 2.06-.94-2.06-.94-.94-2.06-.94 2.06-2.06.94z\"/><path d=\"M17.41 7.96l-1.37-1.37c-.4-.4-.92-.59-1.43-.59-.52 0-1.04.2-1.43.59L10.3 9.45l-7.72 7.72c-.78.78-.78 2.05 0 2.83L4 21.41c.39.39.9.59 1.41.59.51 0 1.02-.2 1.41-.59l7.78-7.78 2.81-2.81c.8-.78.8-2.07 0-2.86zM5.41 20L4 18.59l7.72-7.72 1.47 1.35L5.41 20z\"/>\n",
              "  </svg>\n",
              "      </button>\n",
              "      \n",
              "  <style>\n",
              "    .colab-df-container {\n",
              "      display:flex;\n",
              "      flex-wrap:wrap;\n",
              "      gap: 12px;\n",
              "    }\n",
              "\n",
              "    .colab-df-convert {\n",
              "      background-color: #E8F0FE;\n",
              "      border: none;\n",
              "      border-radius: 50%;\n",
              "      cursor: pointer;\n",
              "      display: none;\n",
              "      fill: #1967D2;\n",
              "      height: 32px;\n",
              "      padding: 0 0 0 0;\n",
              "      width: 32px;\n",
              "    }\n",
              "\n",
              "    .colab-df-convert:hover {\n",
              "      background-color: #E2EBFA;\n",
              "      box-shadow: 0px 1px 2px rgba(60, 64, 67, 0.3), 0px 1px 3px 1px rgba(60, 64, 67, 0.15);\n",
              "      fill: #174EA6;\n",
              "    }\n",
              "\n",
              "    [theme=dark] .colab-df-convert {\n",
              "      background-color: #3B4455;\n",
              "      fill: #D2E3FC;\n",
              "    }\n",
              "\n",
              "    [theme=dark] .colab-df-convert:hover {\n",
              "      background-color: #434B5C;\n",
              "      box-shadow: 0px 1px 3px 1px rgba(0, 0, 0, 0.15);\n",
              "      filter: drop-shadow(0px 1px 2px rgba(0, 0, 0, 0.3));\n",
              "      fill: #FFFFFF;\n",
              "    }\n",
              "  </style>\n",
              "\n",
              "      <script>\n",
              "        const buttonEl =\n",
              "          document.querySelector('#df-cacb58d2-bd69-4009-b96e-5992f5ed1cd7 button.colab-df-convert');\n",
              "        buttonEl.style.display =\n",
              "          google.colab.kernel.accessAllowed ? 'block' : 'none';\n",
              "\n",
              "        async function convertToInteractive(key) {\n",
              "          const element = document.querySelector('#df-cacb58d2-bd69-4009-b96e-5992f5ed1cd7');\n",
              "          const dataTable =\n",
              "            await google.colab.kernel.invokeFunction('convertToInteractive',\n",
              "                                                     [key], {});\n",
              "          if (!dataTable) return;\n",
              "\n",
              "          const docLinkHtml = 'Like what you see? Visit the ' +\n",
              "            '<a target=\"_blank\" href=https://colab.research.google.com/notebooks/data_table.ipynb>data table notebook</a>'\n",
              "            + ' to learn more about interactive tables.';\n",
              "          element.innerHTML = '';\n",
              "          dataTable['output_type'] = 'display_data';\n",
              "          await google.colab.output.renderOutput(dataTable, element);\n",
              "          const docLink = document.createElement('div');\n",
              "          docLink.innerHTML = docLinkHtml;\n",
              "          element.appendChild(docLink);\n",
              "        }\n",
              "      </script>\n",
              "    </div>\n",
              "  </div>\n",
              "  "
            ],
            "text/plain": [
              "     Name  Age  Experience\n",
              "0   Sunil   50          15\n",
              "1  Sachin   35          18\n",
              "2   Rohit   40          12\n",
              "3    Viru   36          12"
            ]
          },
          "metadata": {},
          "execution_count": 8
        }
      ]
    },
    {
      "cell_type": "code",
      "source": [
        "pip install pyspark"
      ],
      "metadata": {
        "colab": {
          "base_uri": "https://localhost:8080/"
        },
        "id": "YGVvwlrCscYN",
        "outputId": "cf739787-622d-4b30-9901-b5fa068d09fc"
      },
      "execution_count": 9,
      "outputs": [
        {
          "output_type": "stream",
          "name": "stdout",
          "text": [
            "Collecting pyspark\n",
            "  Downloading pyspark-3.2.1.tar.gz (281.4 MB)\n",
            "\u001b[K     |████████████████████████████████| 281.4 MB 34 kB/s \n",
            "\u001b[?25hCollecting py4j==0.10.9.3\n",
            "  Downloading py4j-0.10.9.3-py2.py3-none-any.whl (198 kB)\n",
            "\u001b[K     |████████████████████████████████| 198 kB 41.6 MB/s \n",
            "\u001b[?25hBuilding wheels for collected packages: pyspark\n",
            "  Building wheel for pyspark (setup.py) ... \u001b[?25l\u001b[?25hdone\n",
            "  Created wheel for pyspark: filename=pyspark-3.2.1-py2.py3-none-any.whl size=281853642 sha256=bc921b181aa1396b645f9a4383707834a376cb05163c654ad570d767b28c30df\n",
            "  Stored in directory: /root/.cache/pip/wheels/9f/f5/07/7cd8017084dce4e93e84e92efd1e1d5334db05f2e83bcef74f\n",
            "Successfully built pyspark\n",
            "Installing collected packages: py4j, pyspark\n",
            "Successfully installed py4j-0.10.9.3 pyspark-3.2.1\n"
          ]
        }
      ]
    },
    {
      "cell_type": "code",
      "source": [
        "# Pyspark Commands"
      ],
      "metadata": {
        "id": "oY2jOhA_scgT"
      },
      "execution_count": null,
      "outputs": []
    },
    {
      "cell_type": "code",
      "source": [
        "from pyspark.sql import SparkSession"
      ],
      "metadata": {
        "id": "eJroYAFuscjZ"
      },
      "execution_count": 11,
      "outputs": []
    },
    {
      "cell_type": "code",
      "source": [
        "spark=SparkSession.builder.appName('Dataframe').getOrCreate()"
      ],
      "metadata": {
        "id": "RX8s_v4-scmi"
      },
      "execution_count": 12,
      "outputs": []
    },
    {
      "cell_type": "code",
      "source": [
        "spark"
      ],
      "metadata": {
        "id": "5cgMyQn_scpY",
        "colab": {
          "base_uri": "https://localhost:8080/",
          "height": 219
        },
        "outputId": "822e880c-2950-4ad3-edbd-0f6e4fc7575f"
      },
      "execution_count": 13,
      "outputs": [
        {
          "output_type": "execute_result",
          "data": {
            "text/html": [
              "\n",
              "            <div>\n",
              "                <p><b>SparkSession - in-memory</b></p>\n",
              "                \n",
              "        <div>\n",
              "            <p><b>SparkContext</b></p>\n",
              "\n",
              "            <p><a href=\"http://ed7ae836a38e:4040\">Spark UI</a></p>\n",
              "\n",
              "            <dl>\n",
              "              <dt>Version</dt>\n",
              "                <dd><code>v3.2.1</code></dd>\n",
              "              <dt>Master</dt>\n",
              "                <dd><code>local[*]</code></dd>\n",
              "              <dt>AppName</dt>\n",
              "                <dd><code>Dataframe</code></dd>\n",
              "            </dl>\n",
              "        </div>\n",
              "        \n",
              "            </div>\n",
              "        "
            ],
            "text/plain": [
              "<pyspark.sql.session.SparkSession at 0x7f152367c790>"
            ]
          },
          "metadata": {},
          "execution_count": 13
        }
      ]
    },
    {
      "cell_type": "code",
      "source": [
        "# Read Data set"
      ],
      "metadata": {
        "id": "BF_NybCEscsN"
      },
      "execution_count": null,
      "outputs": []
    },
    {
      "cell_type": "code",
      "source": [
        "df=spark.read.option('header','true').csv('data.csv - Sheet1.csv')"
      ],
      "metadata": {
        "id": "KDuJjXnZscup"
      },
      "execution_count": 22,
      "outputs": []
    },
    {
      "cell_type": "code",
      "source": [
        "df=spark.read.option('header','true').csv('data.csv - Sheet1.csv',inferSchema=True)                # interschema = True will shows Data types correctly as per database"
      ],
      "metadata": {
        "id": "ePPMzCwZF-Aa"
      },
      "execution_count": 20,
      "outputs": []
    },
    {
      "cell_type": "code",
      "source": [
        "# Check Schema"
      ],
      "metadata": {
        "id": "174tSFCaFgve"
      },
      "execution_count": null,
      "outputs": []
    },
    {
      "cell_type": "code",
      "source": [
        "df.printSchema()"
      ],
      "metadata": {
        "id": "YcKqrmkdFg49",
        "outputId": "c9d281f1-e073-47c3-9306-1a0b1fb9257b",
        "colab": {
          "base_uri": "https://localhost:8080/"
        }
      },
      "execution_count": 21,
      "outputs": [
        {
          "output_type": "stream",
          "name": "stdout",
          "text": [
            "root\n",
            " |-- Name: string (nullable = true)\n",
            " |-- Age: integer (nullable = true)\n",
            " |-- Experience: integer (nullable = true)\n",
            "\n"
          ]
        }
      ]
    },
    {
      "cell_type": "code",
      "source": [
        "df=spark.read.csv('data.csv - Sheet1.csv',header=True,inferSchema=True)\n",
        "df.show()"
      ],
      "metadata": {
        "id": "T_aHolQQFg7T",
        "outputId": "cee15d6e-a6af-404b-9502-37f3db5cd776",
        "colab": {
          "base_uri": "https://localhost:8080/"
        }
      },
      "execution_count": 23,
      "outputs": [
        {
          "output_type": "stream",
          "name": "stdout",
          "text": [
            "+------+---+----------+\n",
            "|  Name|Age|Experience|\n",
            "+------+---+----------+\n",
            "| Sunil| 50|        15|\n",
            "|Sachin| 35|        18|\n",
            "| Rohit| 40|        12|\n",
            "|  Viru| 36|        12|\n",
            "+------+---+----------+\n",
            "\n"
          ]
        }
      ]
    },
    {
      "cell_type": "code",
      "source": [
        "type(df)"
      ],
      "metadata": {
        "id": "diKtnUTdFg92",
        "outputId": "a940bf55-73fa-495b-fdf5-84ad5659337d",
        "colab": {
          "base_uri": "https://localhost:8080/"
        }
      },
      "execution_count": 24,
      "outputs": [
        {
          "output_type": "execute_result",
          "data": {
            "text/plain": [
              "pyspark.sql.dataframe.DataFrame"
            ]
          },
          "metadata": {},
          "execution_count": 24
        }
      ]
    },
    {
      "cell_type": "code",
      "source": [
        "# To get col names"
      ],
      "metadata": {
        "id": "QrhzZ9_xFg_l"
      },
      "execution_count": null,
      "outputs": []
    },
    {
      "cell_type": "code",
      "source": [
        "df.columns"
      ],
      "metadata": {
        "id": "NU5rH6v_HO7C",
        "outputId": "65ad0017-2b1e-4771-80f0-4cc7f93c8de5",
        "colab": {
          "base_uri": "https://localhost:8080/"
        }
      },
      "execution_count": 26,
      "outputs": [
        {
          "output_type": "execute_result",
          "data": {
            "text/plain": [
              "['Name', 'Age', 'Experience']"
            ]
          },
          "metadata": {},
          "execution_count": 26
        }
      ]
    },
    {
      "cell_type": "code",
      "source": [
        "df.head(2)"
      ],
      "metadata": {
        "id": "wV0qLcM3HO9I",
        "outputId": "8f286c64-294e-46c3-8f2e-c387d6ba97fe",
        "colab": {
          "base_uri": "https://localhost:8080/"
        }
      },
      "execution_count": 27,
      "outputs": [
        {
          "output_type": "execute_result",
          "data": {
            "text/plain": [
              "[Row(Name='Sunil', Age=50, Experience=15),\n",
              " Row(Name='Sachin', Age=35, Experience=18)]"
            ]
          },
          "metadata": {},
          "execution_count": 27
        }
      ]
    },
    {
      "cell_type": "code",
      "source": [
        "#pick up any one column"
      ],
      "metadata": {
        "id": "WsJHSnawHgKm"
      },
      "execution_count": null,
      "outputs": []
    },
    {
      "cell_type": "code",
      "source": [
        "df.select('Name').show()"
      ],
      "metadata": {
        "id": "thhFgrJTHgNI",
        "outputId": "8970d22b-8d96-41ea-e268-526440ec9824",
        "colab": {
          "base_uri": "https://localhost:8080/"
        }
      },
      "execution_count": 28,
      "outputs": [
        {
          "output_type": "stream",
          "name": "stdout",
          "text": [
            "+------+\n",
            "|  Name|\n",
            "+------+\n",
            "| Sunil|\n",
            "|Sachin|\n",
            "| Rohit|\n",
            "|  Viru|\n",
            "+------+\n",
            "\n"
          ]
        }
      ]
    },
    {
      "cell_type": "code",
      "source": [
        "# Pyspark commands for Handling missing Values"
      ],
      "metadata": {
        "id": "-I11KZZZHgPR"
      },
      "execution_count": null,
      "outputs": []
    },
    {
      "cell_type": "code",
      "source": [
        "#Drop col,drop rows,  Handling missing values by mean, median , mode"
      ],
      "metadata": {
        "id": "K65dLOp8HgRM"
      },
      "execution_count": null,
      "outputs": []
    },
    {
      "cell_type": "code",
      "source": [
        "df1=spark.read.csv('datasheet1.csv',header=True,inferSchema=True)"
      ],
      "metadata": {
        "id": "x9t2M3XQHgTJ"
      },
      "execution_count": 39,
      "outputs": []
    },
    {
      "cell_type": "code",
      "source": [
        "df1.show()"
      ],
      "metadata": {
        "id": "MmSxkI4ILRD2",
        "outputId": "34c6c241-ff74-43bf-eecb-e75f2ec5ded9",
        "colab": {
          "base_uri": "https://localhost:8080/"
        }
      },
      "execution_count": 40,
      "outputs": [
        {
          "output_type": "stream",
          "name": "stdout",
          "text": [
            "+------+---+----+------+\n",
            "|  Name|Age| Exp|Salary|\n",
            "+------+---+----+------+\n",
            "|Sachin| 25|   5| 20000|\n",
            "|  Ravi| 22|null| 50000|\n",
            "| Sanju| 23|   8| 30000|\n",
            "|  Viru| 27|   2| 24000|\n",
            "|Saddhu| 24|   7|  null|\n",
            "|  Rutu| 25|   3| 25000|\n",
            "|Nikhil| 24|null| 29000|\n",
            "|Vishal| 26|null|  null|\n",
            "+------+---+----+------+\n",
            "\n"
          ]
        }
      ]
    },
    {
      "cell_type": "code",
      "source": [
        "#Drop Col"
      ],
      "metadata": {
        "id": "HwtQZGAeHgVP"
      },
      "execution_count": null,
      "outputs": []
    },
    {
      "cell_type": "code",
      "source": [
        "df1.drop('Name').show()"
      ],
      "metadata": {
        "id": "sDACzYrcHgZH",
        "outputId": "69c4abcd-3779-4fca-b565-cec33cf3b245",
        "colab": {
          "base_uri": "https://localhost:8080/"
        }
      },
      "execution_count": 42,
      "outputs": [
        {
          "output_type": "stream",
          "name": "stdout",
          "text": [
            "+---+----+------+\n",
            "|Age| Exp|Salary|\n",
            "+---+----+------+\n",
            "| 25|   5| 20000|\n",
            "| 22|null| 50000|\n",
            "| 23|   8| 30000|\n",
            "| 27|   2| 24000|\n",
            "| 24|   7|  null|\n",
            "| 25|   3| 25000|\n",
            "| 24|null| 29000|\n",
            "| 26|null|  null|\n",
            "+---+----+------+\n",
            "\n"
          ]
        }
      ]
    },
    {
      "cell_type": "code",
      "source": [
        "# Handling missing values"
      ],
      "metadata": {
        "id": "s3yD88nmHgbO"
      },
      "execution_count": null,
      "outputs": []
    },
    {
      "cell_type": "code",
      "source": [
        "df1.show()"
      ],
      "metadata": {
        "id": "49aO2KEDHgd8",
        "outputId": "e9c61d88-b99b-43d9-cca9-37a1840cbc4f",
        "colab": {
          "base_uri": "https://localhost:8080/"
        }
      },
      "execution_count": 43,
      "outputs": [
        {
          "output_type": "stream",
          "name": "stdout",
          "text": [
            "+------+---+----+------+\n",
            "|  Name|Age| Exp|Salary|\n",
            "+------+---+----+------+\n",
            "|Sachin| 25|   5| 20000|\n",
            "|  Ravi| 22|null| 50000|\n",
            "| Sanju| 23|   8| 30000|\n",
            "|  Viru| 27|   2| 24000|\n",
            "|Saddhu| 24|   7|  null|\n",
            "|  Rutu| 25|   3| 25000|\n",
            "|Nikhil| 24|null| 29000|\n",
            "|Vishal| 26|null|  null|\n",
            "+------+---+----+------+\n",
            "\n"
          ]
        }
      ]
    },
    {
      "cell_type": "code",
      "source": [
        "df.na.drop().show()                          # Rows which has null values droped"
      ],
      "metadata": {
        "id": "2sdGBRJIHO_1",
        "outputId": "77cd9df5-b8ab-4bb9-f82d-1f55eb89024b",
        "colab": {
          "base_uri": "https://localhost:8080/"
        }
      },
      "execution_count": 44,
      "outputs": [
        {
          "output_type": "stream",
          "name": "stdout",
          "text": [
            "+------+---+----------+\n",
            "|  Name|Age|Experience|\n",
            "+------+---+----------+\n",
            "| Sunil| 50|        15|\n",
            "|Sachin| 35|        18|\n",
            "| Rohit| 40|        12|\n",
            "|  Viru| 36|        12|\n",
            "+------+---+----------+\n",
            "\n"
          ]
        }
      ]
    },
    {
      "cell_type": "code",
      "source": [
        "We will see drop features :- How, Thresh"
      ],
      "metadata": {
        "id": "LMqo5_vXHPDn"
      },
      "execution_count": null,
      "outputs": []
    },
    {
      "cell_type": "code",
      "source": [
        "# any == how          how='all'  drop all rows which contains null values\n",
        "df1.na.drop(how='all').show()"
      ],
      "metadata": {
        "id": "cuUHzRrZFhCY",
        "outputId": "6dbd8ea4-00ef-4ab1-9dce-19885e0433e2",
        "colab": {
          "base_uri": "https://localhost:8080/"
        }
      },
      "execution_count": 45,
      "outputs": [
        {
          "output_type": "stream",
          "name": "stdout",
          "text": [
            "+------+---+----+------+\n",
            "|  Name|Age| Exp|Salary|\n",
            "+------+---+----+------+\n",
            "|Sachin| 25|   5| 20000|\n",
            "|  Ravi| 22|null| 50000|\n",
            "| Sanju| 23|   8| 30000|\n",
            "|  Viru| 27|   2| 24000|\n",
            "|Saddhu| 24|   7|  null|\n",
            "|  Rutu| 25|   3| 25000|\n",
            "|Nikhil| 24|null| 29000|\n",
            "|Vishal| 26|null|  null|\n",
            "+------+---+----+------+\n",
            "\n"
          ]
        }
      ]
    },
    {
      "cell_type": "code",
      "source": [
        "# Threshold"
      ],
      "metadata": {
        "id": "jdcxGbb0NJWa"
      },
      "execution_count": null,
      "outputs": []
    },
    {
      "cell_type": "code",
      "source": [
        "df1.na.drop(how='any',thresh=3).show() # Atleast 3 non null values should be present"
      ],
      "metadata": {
        "id": "FWxJ3wP6NJZM",
        "outputId": "2fd44120-4f37-4be5-9db9-c7070873e691",
        "colab": {
          "base_uri": "https://localhost:8080/"
        }
      },
      "execution_count": 52,
      "outputs": [
        {
          "output_type": "stream",
          "name": "stdout",
          "text": [
            "+------+---+----+------+\n",
            "|  Name|Age| Exp|Salary|\n",
            "+------+---+----+------+\n",
            "|Sachin| 25|   5| 20000|\n",
            "|  Ravi| 22|null| 50000|\n",
            "| Sanju| 23|   8| 30000|\n",
            "|  Viru| 27|   2| 24000|\n",
            "|Saddhu| 24|   7|  null|\n",
            "|  Rutu| 25|   3| 25000|\n",
            "|Nikhil| 24|null| 29000|\n",
            "+------+---+----+------+\n",
            "\n"
          ]
        }
      ]
    },
    {
      "cell_type": "code",
      "source": [
        "# Subset"
      ],
      "metadata": {
        "id": "XIwO4h_KNJbj"
      },
      "execution_count": null,
      "outputs": []
    },
    {
      "cell_type": "code",
      "source": [
        "df1.na.drop(how='any',subset=['Salary']).show()                 # Saddhu is dropped as it contains null value in salary column"
      ],
      "metadata": {
        "id": "LG5PZc1KNJeJ",
        "outputId": "305ff54c-1681-4ad8-800d-5eb67e1e2c4d",
        "colab": {
          "base_uri": "https://localhost:8080/"
        }
      },
      "execution_count": 58,
      "outputs": [
        {
          "output_type": "stream",
          "name": "stdout",
          "text": [
            "+------+---+----+------+\n",
            "|  Name|Age| Exp|Salary|\n",
            "+------+---+----+------+\n",
            "|Sachin| 25|   5| 20000|\n",
            "|  Ravi| 22|null| 50000|\n",
            "| Sanju| 23|   8| 30000|\n",
            "|  Viru| 27|   2| 24000|\n",
            "|  Rutu| 25|   3| 25000|\n",
            "|Nikhil| 24|null| 29000|\n",
            "+------+---+----+------+\n",
            "\n"
          ]
        }
      ]
    },
    {
      "cell_type": "code",
      "source": [
        "# Fill the missing values"
      ],
      "metadata": {
        "id": "vuUv5HQVNJgO"
      },
      "execution_count": null,
      "outputs": []
    },
    {
      "cell_type": "code",
      "source": [
        "df1.show()\n",
        "\n"
      ],
      "metadata": {
        "id": "dgmPskbDNJkQ",
        "outputId": "f2ed4de9-584d-4748-f172-dbb6d7a20a9c",
        "colab": {
          "base_uri": "https://localhost:8080/"
        }
      },
      "execution_count": 61,
      "outputs": [
        {
          "output_type": "stream",
          "name": "stdout",
          "text": [
            "+------+---+----+------+\n",
            "|  Name|Age| Exp|Salary|\n",
            "+------+---+----+------+\n",
            "|Sachin| 25|   5| 20000|\n",
            "|  Ravi| 22|null| 50000|\n",
            "| Sanju| 23|   8| 30000|\n",
            "|  Viru| 27|   2| 24000|\n",
            "|Saddhu| 24|   7|  null|\n",
            "|  Rutu| 25|   3| 25000|\n",
            "|Nikhil| 24|null| 29000|\n",
            "|Vishal| 26|null|  null|\n",
            "+------+---+----+------+\n",
            "\n"
          ]
        }
      ]
    },
    {
      "cell_type": "code",
      "source": [
        "df1.na.fill(value=0).show()                # null is replace by 0"
      ],
      "metadata": {
        "id": "ljsHwCFzNJqY",
        "outputId": "7b93586a-2176-4351-8fb9-1b5ed1ae5f9b",
        "colab": {
          "base_uri": "https://localhost:8080/"
        }
      },
      "execution_count": 74,
      "outputs": [
        {
          "output_type": "stream",
          "name": "stdout",
          "text": [
            "+------+---+---+------+\n",
            "|  Name|Age|Exp|Salary|\n",
            "+------+---+---+------+\n",
            "|Sachin| 25|  5| 20000|\n",
            "|  Ravi| 22|  0| 50000|\n",
            "| Sanju| 23|  8| 30000|\n",
            "|  Viru| 27|  2| 24000|\n",
            "|Saddhu| 24|  7|     0|\n",
            "|  Rutu| 25|  3| 25000|\n",
            "|Nikhil| 24|  0| 29000|\n",
            "|Vishal| 26|  0|     0|\n",
            "+------+---+---+------+\n",
            "\n"
          ]
        }
      ]
    },
    {
      "cell_type": "code",
      "source": [
        "df1.na.fill(value=0,subset=[\"Salary\"]).show()\n"
      ],
      "metadata": {
        "id": "88ykdme9NJrz",
        "outputId": "cb1f3fff-ee6e-470f-cb3f-a9d17544b88c",
        "colab": {
          "base_uri": "https://localhost:8080/"
        }
      },
      "execution_count": 76,
      "outputs": [
        {
          "output_type": "stream",
          "name": "stdout",
          "text": [
            "+------+---+----+------+\n",
            "|  Name|Age| Exp|Salary|\n",
            "+------+---+----+------+\n",
            "|Sachin| 25|   5| 20000|\n",
            "|  Ravi| 22|null| 50000|\n",
            "| Sanju| 23|   8| 30000|\n",
            "|  Viru| 27|   2| 24000|\n",
            "|Saddhu| 24|   7|     0|\n",
            "|  Rutu| 25|   3| 25000|\n",
            "|Nikhil| 24|null| 29000|\n",
            "|Vishal| 26|null|     0|\n",
            "+------+---+----+------+\n",
            "\n"
          ]
        }
      ]
    },
    {
      "cell_type": "code",
      "source": [
        "# Imputer Function"
      ],
      "metadata": {
        "id": "d4ZEjwzuNJt3"
      },
      "execution_count": null,
      "outputs": []
    },
    {
      "cell_type": "code",
      "source": [
        "from pyspark.ml.feature import Imputer\n",
        "\n",
        "imputer = Imputer(inputCols=['Exp','Salary'], \n",
        "                  outputCols=[\"{}_imputed\".format(c) for c in ['Exp','Salary']]).setStrategy('mean')\n"
      ],
      "metadata": {
        "id": "KUhmddsmNJv2"
      },
      "execution_count": 84,
      "outputs": []
    },
    {
      "cell_type": "code",
      "source": [
        "imputer.fit(df1).transform(df1).show()"
      ],
      "metadata": {
        "id": "LNl6hSP4NJxe",
        "outputId": "727534a3-4296-4798-9ed0-1b589bc5b50c",
        "colab": {
          "base_uri": "https://localhost:8080/"
        }
      },
      "execution_count": 85,
      "outputs": [
        {
          "output_type": "stream",
          "name": "stdout",
          "text": [
            "+------+---+----+------+-----------+--------------+\n",
            "|  Name|Age| Exp|Salary|Exp_imputed|Salary_imputed|\n",
            "+------+---+----+------+-----------+--------------+\n",
            "|Sachin| 25|   5| 20000|          5|         20000|\n",
            "|  Ravi| 22|null| 50000|          5|         50000|\n",
            "| Sanju| 23|   8| 30000|          8|         30000|\n",
            "|  Viru| 27|   2| 24000|          2|         24000|\n",
            "|Saddhu| 24|   7|  null|          7|         29666|\n",
            "|  Rutu| 25|   3| 25000|          3|         25000|\n",
            "|Nikhil| 24|null| 29000|          5|         29000|\n",
            "|Vishal| 26|null|  null|          5|         29666|\n",
            "+------+---+----+------+-----------+--------------+\n",
            "\n"
          ]
        }
      ]
    },
    {
      "cell_type": "code",
      "source": [
        ""
      ],
      "metadata": {
        "id": "j0_FonVFNJzw"
      },
      "execution_count": null,
      "outputs": []
    },
    {
      "cell_type": "code",
      "source": [
        ""
      ],
      "metadata": {
        "id": "r3WSgRVNNJ2g"
      },
      "execution_count": null,
      "outputs": []
    }
  ]
}